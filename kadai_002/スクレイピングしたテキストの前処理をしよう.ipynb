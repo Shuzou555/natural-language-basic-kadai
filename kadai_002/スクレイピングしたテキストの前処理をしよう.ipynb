{
  "nbformat": 4,
  "nbformat_minor": 0,
  "metadata": {
    "colab": {
      "private_outputs": true,
      "provenance": []
    },
    "kernelspec": {
      "name": "python3",
      "display_name": "Python 3"
    },
    "language_info": {
      "name": "python"
    }
  },
  "cells": [
    {
      "cell_type": "code",
      "execution_count": null,
      "metadata": {
        "id": "064Pf0pp29et"
      },
      "outputs": [],
      "source": [
        "# 文章のスクレイピング\n",
        "!pip install bs4\n",
        "from bs4 import BeautifulSoup\n",
        "from urllib import request\n",
        "\n",
        "url = 'https://www.aozora.gr.jp/cards/000148/files/2371_13943.html'\n",
        "\n",
        "# urllib.requestモジュールが提供するurlopen関数を使いこのページの内容を取得してください。\n",
        "response = request.urlopen(url)\n",
        "soup = BeautifulSoup(response)\n",
        "response.close()\n",
        "\n",
        "print(soup)"
      ]
    },
    {
      "cell_type": "code",
      "source": [
        "# HTMLタグや不要な文字列の削除\n",
        "# タグの削除\n",
        "main_text = soup.find('div', class_='main_text')\n",
        "\n",
        "# main_textでルビ関連のタグ（の一部）を削除\n",
        "tags_to_delete = main_text.find_all(['rp', 'rt'])\n",
        "for tag in tags_to_delete:\n",
        "    tag.decompose()\n",
        "# get_textメソッドは人が読めるような形式でテキストを抜き出す\n",
        "main_text = main_text.get_text()\n",
        "# 最後に正規表現を用いて、改行や全角空白をテキストクリーニングしていきましょう。\n",
        "import re\n",
        "main_text = re.sub(r\"[\\u3000 \\n \\r]\", \"\", main_text)\n",
        "print(main_text)"
      ],
      "metadata": {
        "id": "b1WSmLb_6Ad6"
      },
      "execution_count": null,
      "outputs": []
    },
    {
      "cell_type": "code",
      "source": [
        "split_text_list =  ['私', 'は', '今日', '、', 'スーパー', 'で', '沢山', 'の', 'お', '菓子', 'を', '買っ', 'た', '。']\n",
        "result_text_list = list()\n",
        "for split_text in split_text_list:\n",
        "  if split_text not in main_text:\n",
        "    result_text_list.append(split_text)\n",
        "\n",
        "print(result_text_list)"
      ],
      "metadata": {
        "id": "Zy9y3ogE9Lq0"
      },
      "execution_count": null,
      "outputs": []
    }
  ]
}